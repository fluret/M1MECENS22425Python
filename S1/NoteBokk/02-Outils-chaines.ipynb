{
 "cells": [
  {
   "cell_type": "markdown",
   "id": "0a55dd39",
   "metadata": {},
   "source": [
    "# Les outils de base sur les chaînes de caractères (`str`)"
   ]
  },
  {
   "cell_type": "markdown",
   "id": "a4ace419",
   "metadata": {},
   "source": [
    "### Lire la documentation"
   ]
  },
  {
   "cell_type": "markdown",
   "id": "3a57cf5e",
   "metadata": {},
   "source": [
    "Même après des années de pratique, il est difficile de se souvenir de toutes les méthodes travaillant sur les chaînes de caractères. Aussi il est toujours utile de recourir à la documentation embarquée"
   ]
  },
  {
   "cell_type": "code",
   "execution_count": null,
   "id": "216a1237",
   "metadata": {
    "latex:skip-eval": true
   },
   "outputs": [],
   "source": [
    "help(str)"
   ]
  },
  {
   "cell_type": "markdown",
   "id": "e404b3a0",
   "metadata": {},
   "source": [
    "Nous allons tenter ici de citer les méthodes les plus utilisées. Nous n'avons le temps que de les utiliser de manière très simple, mais bien souvent il est possible de passer en argument des options permettant de ne travailler que sur une sous-chaîne, ou sur la première ou dernière occurrence d'une sous-chaîne. Nous vous renvoyons à la documentation pour obtenir toutes les précisions utiles."
   ]
  },
  {
   "cell_type": "markdown",
   "id": "1bc7854f",
   "metadata": {},
   "source": [
    "### Découpage - assemblage : `split` et `join`"
   ]
  },
  {
   "cell_type": "markdown",
   "id": "1fe195ba",
   "metadata": {},
   "source": [
    "Les méthodes `split` et `join` permettent de découper une chaîne selon un séparateur pour obtenir une liste, et à l'inverse de reconstruire une chaîne à partir d'une liste."
   ]
  },
  {
   "cell_type": "markdown",
   "id": "a48b473d",
   "metadata": {},
   "source": [
    "`split` permet donc de découper :"
   ]
  },
  {
   "cell_type": "code",
   "execution_count": 2,
   "id": "e0e663a7",
   "metadata": {},
   "outputs": [
    {
     "data": {
      "text/plain": [
       "['abc', 'def', 'ghi', 'jkl']"
      ]
     },
     "execution_count": 2,
     "metadata": {},
     "output_type": "execute_result"
    }
   ],
   "source": [
    "'abc=:=def=:=ghi=:=jkl'.split('=:=')"
   ]
  },
  {
   "cell_type": "markdown",
   "id": "f09c6c5c",
   "metadata": {},
   "source": [
    "Et à l'inverse :"
   ]
  },
  {
   "cell_type": "code",
   "execution_count": 3,
   "id": "a21b8b3a",
   "metadata": {},
   "outputs": [
    {
     "data": {
      "text/plain": [
       "'abc=:=def=:=ghi=:=jkl'"
      ]
     },
     "execution_count": 3,
     "metadata": {},
     "output_type": "execute_result"
    }
   ],
   "source": [
    "\"=:=\".join(['abc', 'def', 'ghi', 'jkl'])"
   ]
  },
  {
   "cell_type": "markdown",
   "id": "ae78a12b",
   "metadata": {},
   "source": [
    "Attention toutefois si le séparateur est un terminateur, la liste résultat contient alors une dernière chaîne vide. En pratique, on utilisera la méthode `strip`, que nous allons voir ci-dessous, avant la méthode `split` pour éviter ce problème."
   ]
  },
  {
   "cell_type": "code",
   "execution_count": 4,
   "id": "1bf937cd",
   "metadata": {},
   "outputs": [
    {
     "data": {
      "text/plain": [
       "['abc', 'def', 'ghi', 'jkl', '']"
      ]
     },
     "execution_count": 4,
     "metadata": {},
     "output_type": "execute_result"
    }
   ],
   "source": [
    "'abc;def;ghi;jkl;'.split(';')"
   ]
  },
  {
   "cell_type": "markdown",
   "id": "f18db4aa",
   "metadata": {},
   "source": [
    "Qui s'inverse correctement cependant :"
   ]
  },
  {
   "cell_type": "code",
   "execution_count": 5,
   "id": "ba93dfc4",
   "metadata": {},
   "outputs": [
    {
     "data": {
      "text/plain": [
       "'abc;def;ghi;jkl;'"
      ]
     },
     "execution_count": 5,
     "metadata": {},
     "output_type": "execute_result"
    }
   ],
   "source": [
    "\";\".join(['abc', 'def', 'ghi', 'jkl', ''])"
   ]
  },
  {
   "cell_type": "markdown",
   "id": "6da35859",
   "metadata": {},
   "source": [
    "### Remplacement : `replace`"
   ]
  },
  {
   "cell_type": "markdown",
   "id": "6cebaa0e",
   "metadata": {},
   "source": [
    "`replace` est très pratique pour remplacer une sous-chaîne par une autre, avec une limite éventuelle sur le nombre de remplacements :"
   ]
  },
  {
   "cell_type": "code",
   "execution_count": 6,
   "id": "37634229",
   "metadata": {},
   "outputs": [
    {
     "data": {
      "text/plain": [
       "'zoodefzoodefzoodef'"
      ]
     },
     "execution_count": 6,
     "metadata": {},
     "output_type": "execute_result"
    }
   ],
   "source": [
    "\"abcdefabcdefabcdef\".replace(\"abc\", \"zoo\")"
   ]
  },
  {
   "cell_type": "code",
   "execution_count": 7,
   "id": "8de88a3d",
   "metadata": {},
   "outputs": [
    {
     "data": {
      "text/plain": [
       "'zoodefzoodefabcdef'"
      ]
     },
     "execution_count": 7,
     "metadata": {},
     "output_type": "execute_result"
    }
   ],
   "source": [
    "\"abcdefabcdefabcdef\".replace(\"abc\", \"zoo\", 2)"
   ]
  },
  {
   "cell_type": "markdown",
   "id": "0f0b727f",
   "metadata": {},
   "source": [
    "Plusieurs appels à `replace` peuvent être chaînés comme ceci :"
   ]
  },
  {
   "cell_type": "code",
   "execution_count": 8,
   "id": "14333b0d",
   "metadata": {},
   "outputs": [
    {
     "data": {
      "text/plain": [
       "'les chevaliers qui disent Ni'"
      ]
     },
     "execution_count": 8,
     "metadata": {},
     "output_type": "execute_result"
    }
   ],
   "source": [
    "\"les [x] qui disent [y]\".replace(\"[x]\", \"chevaliers\").replace(\"[y]\", \"Ni\")"
   ]
  },
  {
   "cell_type": "markdown",
   "id": "901c6efc",
   "metadata": {},
   "source": [
    "### Nettoyage : `strip`"
   ]
  },
  {
   "cell_type": "markdown",
   "id": "d128759a",
   "metadata": {},
   "source": [
    "On pourrait par exemple utiliser `replace` pour enlever les espaces dans une chaîne, ce qui peut être utile pour \"nettoyer\" comme ceci :"
   ]
  },
  {
   "cell_type": "code",
   "execution_count": 9,
   "id": "6ae50e86",
   "metadata": {},
   "outputs": [
    {
     "data": {
      "text/plain": [
       "'abc:def:ghi'"
      ]
     },
     "execution_count": 9,
     "metadata": {},
     "output_type": "execute_result"
    }
   ],
   "source": [
    "\" abc:def:ghi \".replace(\" \", \"\")"
   ]
  },
  {
   "cell_type": "markdown",
   "id": "acacf4fb",
   "metadata": {},
   "source": [
    "Toutefois bien souvent on préfère utiliser `strip` qui ne s'occupe que du début et de la fin de la chaîne, et gère aussi les tabulations et autres retour à la ligne :"
   ]
  },
  {
   "cell_type": "code",
   "execution_count": 10,
   "id": "8e7bd3bc",
   "metadata": {},
   "outputs": [
    {
     "data": {
      "text/plain": [
       "'une chaîne avec des trucs qui dépassent'"
      ]
     },
     "execution_count": 10,
     "metadata": {},
     "output_type": "execute_result"
    }
   ],
   "source": [
    "\" \\tune chaîne avec des trucs qui dépassent \\n\".strip()"
   ]
  },
  {
   "cell_type": "markdown",
   "id": "a265998d",
   "metadata": {},
   "source": [
    "On peut appliquer `strip` avant `split` pour éviter le problème du dernier élément vide :"
   ]
  },
  {
   "cell_type": "code",
   "execution_count": 11,
   "id": "be57b55f",
   "metadata": {},
   "outputs": [
    {
     "data": {
      "text/plain": [
       "['abc', 'def', 'ghi', 'jkl']"
      ]
     },
     "execution_count": 11,
     "metadata": {},
     "output_type": "execute_result"
    }
   ],
   "source": [
    "'abc;def;ghi;jkl;'.strip(';').split(';')"
   ]
  },
  {
   "cell_type": "markdown",
   "id": "fecf6132",
   "metadata": {},
   "source": [
    "### Rechercher une sous-chaîne"
   ]
  },
  {
   "cell_type": "markdown",
   "id": "8248bd43",
   "metadata": {},
   "source": [
    "Plusieurs outils permettent de chercher une sous-chaîne. Il existe `find` qui renvoie le plus petit index où on trouve la sous-chaîne :"
   ]
  },
  {
   "cell_type": "code",
   "execution_count": 12,
   "id": "1bfb9180",
   "metadata": {},
   "outputs": [
    {
     "data": {
      "text/plain": [
       "3"
      ]
     },
     "execution_count": 12,
     "metadata": {},
     "output_type": "execute_result"
    }
   ],
   "source": [
    "# l'indice du début de la première occurrence\n",
    "\"abcdefcdefghefghijk\".find(\"def\")"
   ]
  },
  {
   "cell_type": "code",
   "execution_count": 13,
   "id": "377640ea",
   "metadata": {},
   "outputs": [
    {
     "data": {
      "text/plain": [
       "-1"
      ]
     },
     "execution_count": 13,
     "metadata": {},
     "output_type": "execute_result"
    }
   ],
   "source": [
    "# ou -1 si la chaîne n'est pas présente\n",
    "\"abcdefcdefghefghijk\".find(\"zoo\")"
   ]
  },
  {
   "cell_type": "markdown",
   "id": "5ebd865f",
   "metadata": {},
   "source": [
    "`rfind` fonctionne comme `find` mais en partant de la fin de la chaîne :"
   ]
  },
  {
   "cell_type": "code",
   "execution_count": 14,
   "id": "ba1fbd93",
   "metadata": {},
   "outputs": [
    {
     "data": {
      "text/plain": [
       "13"
      ]
     },
     "execution_count": 14,
     "metadata": {},
     "output_type": "execute_result"
    }
   ],
   "source": [
    "# en partant de la fin\n",
    "\"abcdefcdefghefghijk\".rfind(\"fgh\")"
   ]
  },
  {
   "cell_type": "code",
   "execution_count": 15,
   "id": "b904683f",
   "metadata": {},
   "outputs": [
    {
     "data": {
      "text/plain": [
       "'f'"
      ]
     },
     "execution_count": 15,
     "metadata": {},
     "output_type": "execute_result"
    }
   ],
   "source": [
    "# notez que le résultat correspond\n",
    "# tout de même toujours au début de la chaîne\n",
    "\n",
    "# NB: en python les indices commencent à zéro\n",
    "# donc la notation ma_chaine[n] \n",
    "# permet d'accèder au n+1 ème caractère de la chaine\n",
    "\"abcdefcdefghefghijk\"[13]"
   ]
  },
  {
   "cell_type": "markdown",
   "id": "ad10c26f",
   "metadata": {},
   "source": [
    "La méthode `index` se comporte comme `find`, mais en cas d'absence elle lève une **exception** (nous verrons ce concept plus tard) plutôt que de renvoyer `-1` :"
   ]
  },
  {
   "cell_type": "code",
   "execution_count": 16,
   "id": "e73e16bd",
   "metadata": {},
   "outputs": [
    {
     "data": {
      "text/plain": [
       "3"
      ]
     },
     "execution_count": 16,
     "metadata": {},
     "output_type": "execute_result"
    }
   ],
   "source": [
    "\"abcdefcdefghefghijk\".index(\"def\")"
   ]
  },
  {
   "cell_type": "code",
   "execution_count": 17,
   "id": "98a97683",
   "metadata": {},
   "outputs": [
    {
     "name": "stdout",
     "output_type": "stream",
     "text": [
      "OOPS <class 'ValueError'> substring not found\n"
     ]
    }
   ],
   "source": [
    "try:\n",
    "    \"abcdefcdefghefghijk\".index(\"zoo\")\n",
    "except Exception as e:\n",
    "    print(\"OOPS\", type(e), e)"
   ]
  },
  {
   "cell_type": "markdown",
   "id": "46bb11c3",
   "metadata": {},
   "source": [
    "Mais le plus simple pour chercher si une sous-chaîne est dans une autre chaîne est d'utiliser l'instruction `in` sur laquelle nous reviendrons lorsque nous parlerons des séquences :"
   ]
  },
  {
   "cell_type": "code",
   "execution_count": 18,
   "id": "5b0adaff",
   "metadata": {},
   "outputs": [
    {
     "data": {
      "text/plain": [
       "True"
      ]
     },
     "execution_count": 18,
     "metadata": {},
     "output_type": "execute_result"
    }
   ],
   "source": [
    "\"def\" in \"abcdefcdefghefghijk\""
   ]
  },
  {
   "cell_type": "markdown",
   "id": "6b00ccbf",
   "metadata": {},
   "source": [
    "La méthode `count` compte le nombre d'occurrences d'une sous-chaîne :"
   ]
  },
  {
   "cell_type": "code",
   "execution_count": 19,
   "id": "9a3f9a7e",
   "metadata": {},
   "outputs": [
    {
     "data": {
      "text/plain": [
       "3"
      ]
     },
     "execution_count": 19,
     "metadata": {},
     "output_type": "execute_result"
    }
   ],
   "source": [
    "\"abcdefcdefghefghijk\".count(\"ef\")"
   ]
  },
  {
   "cell_type": "markdown",
   "id": "6aba535b",
   "metadata": {},
   "source": [
    "Signalons enfin les méthodes de commodité suivantes :"
   ]
  },
  {
   "cell_type": "code",
   "execution_count": 20,
   "id": "d7d369e8",
   "metadata": {},
   "outputs": [
    {
     "data": {
      "text/plain": [
       "True"
      ]
     },
     "execution_count": 20,
     "metadata": {},
     "output_type": "execute_result"
    }
   ],
   "source": [
    "\"abcdefcdefghefghijk\".startswith(\"abcd\")"
   ]
  },
  {
   "cell_type": "code",
   "execution_count": 21,
   "id": "8cc967f1",
   "metadata": {},
   "outputs": [
    {
     "data": {
      "text/plain": [
       "True"
      ]
     },
     "execution_count": 21,
     "metadata": {},
     "output_type": "execute_result"
    }
   ],
   "source": [
    "\"abcdefcdefghefghijk\".endswith(\"ghijk\")"
   ]
  },
  {
   "cell_type": "markdown",
   "id": "14896ef1",
   "metadata": {},
   "source": [
    "S'agissant des deux dernières, remarquons que :"
   ]
  },
  {
   "cell_type": "markdown",
   "id": "81b7d4c3",
   "metadata": {},
   "source": [
    "`chaine.startswith(sous_chaine)` $\\Longleftrightarrow$ `chaine.find(sous_chaine) == 0`\n",
    "\n",
    "`chaine.endswith(sous_chaine)` $\\Longleftrightarrow$ `chaine.rfind(sous_chaine) == (len(chaine) - len(sous_chaine))`"
   ]
  },
  {
   "cell_type": "markdown",
   "id": "b057e881",
   "metadata": {},
   "source": [
    "On remarque ici la supériorité en terme d'expressivité des méthodes pythoniques `startswith` et `endswith`."
   ]
  },
  {
   "cell_type": "markdown",
   "id": "89eab8d7",
   "metadata": {},
   "source": [
    "### Changement de casse"
   ]
  },
  {
   "cell_type": "markdown",
   "id": "735e4a56",
   "metadata": {},
   "source": [
    "Voici pour conclure quelques méthodes utiles qui parlent d'elles-mêmes :"
   ]
  },
  {
   "cell_type": "code",
   "execution_count": 22,
   "id": "cac3ffc5",
   "metadata": {},
   "outputs": [
    {
     "data": {
      "text/plain": [
       "'MONTY PYTHON'"
      ]
     },
     "execution_count": 22,
     "metadata": {},
     "output_type": "execute_result"
    }
   ],
   "source": [
    "\"monty PYTHON\".upper()"
   ]
  },
  {
   "cell_type": "code",
   "execution_count": 23,
   "id": "75cd57bb",
   "metadata": {},
   "outputs": [
    {
     "data": {
      "text/plain": [
       "'monty python'"
      ]
     },
     "execution_count": 23,
     "metadata": {},
     "output_type": "execute_result"
    }
   ],
   "source": [
    "\"monty PYTHON\".lower()"
   ]
  },
  {
   "cell_type": "code",
   "execution_count": 24,
   "id": "ba0524d2",
   "metadata": {},
   "outputs": [
    {
     "data": {
      "text/plain": [
       "'MONTY python'"
      ]
     },
     "execution_count": 24,
     "metadata": {},
     "output_type": "execute_result"
    }
   ],
   "source": [
    "\"monty PYTHON\".swapcase()"
   ]
  },
  {
   "cell_type": "code",
   "execution_count": 25,
   "id": "11cfa001",
   "metadata": {},
   "outputs": [
    {
     "data": {
      "text/plain": [
       "'Monty python'"
      ]
     },
     "execution_count": 25,
     "metadata": {},
     "output_type": "execute_result"
    }
   ],
   "source": [
    "\"monty PYTHON\".capitalize()"
   ]
  },
  {
   "cell_type": "code",
   "execution_count": 26,
   "id": "8a4ab330",
   "metadata": {},
   "outputs": [
    {
     "data": {
      "text/plain": [
       "'Monty Python'"
      ]
     },
     "execution_count": 26,
     "metadata": {},
     "output_type": "execute_result"
    }
   ],
   "source": [
    "\"monty PYTHON\".title()"
   ]
  },
  {
   "cell_type": "markdown",
   "id": "5a2fd0b5",
   "metadata": {},
   "source": [
    "### Pour en savoir plus"
   ]
  },
  {
   "cell_type": "markdown",
   "id": "c8d76a31",
   "metadata": {},
   "source": [
    "Tous ces outils sont [documentés en détail ici (en anglais)](https://docs.python.org/3/library/stdtypes.html#string-methods)."
   ]
  }
 ],
 "metadata": {
  "jupytext": {
   "cell_metadata_filter": "all, -hidden, -heading_collapsed, -run_control, -trusted",
   "notebook_metadata_filter": "all, -jupytext.text_representation.jupytext_version, -jupytext.text_representation.format_version, -language_info.version, -language_info.codemirror_mode.version, -language_info.codemirror_mode, -language_info.file_extension, -language_info.mimetype, -toc",
   "text_representation": {
    "extension": ".md",
    "format_name": "myst"
   }
  },
  "kernelspec": {
   "display_name": "Python 3.10.8 64-bit",
   "language": "python",
   "name": "python3"
  },
  "language_info": {
   "codemirror_mode": {
    "name": "ipython",
    "version": 3
   },
   "file_extension": ".py",
   "mimetype": "text/x-python",
   "name": "python",
   "nbconvert_exporter": "python",
   "pygments_lexer": "ipython3",
   "version": "3.10.8"
  },
  "notebookname": "Les outils sur les chaînes",
  "version": "3.0",
  "vscode": {
   "interpreter": {
    "hash": "26de051ba29f2982a8de78e945f0abaf191376122a1563185a90213a26c5da77"
   }
  }
 },
 "nbformat": 4,
 "nbformat_minor": 5
}
