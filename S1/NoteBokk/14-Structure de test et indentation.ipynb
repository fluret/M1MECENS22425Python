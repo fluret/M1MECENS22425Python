{
 "cells": [
  {
   "cell_type": "markdown",
   "metadata": {},
   "source": [
    "# Expressions et instructions"
   ]
  },
  {
   "cell_type": "markdown",
   "metadata": {},
   "source": [
    "Les constructions python peuvent se ranger en deux familles :\n",
    "\n",
    "* d'une part les **expressions** sont les fragments de code qui **retournent une valeur** ;\n",
    "  * c'est le cas lorsqu'on invoque n'importe quel opérateur numérique, pour les appels de fonctions, ...\n",
    "* d'autre part les **instructions** ;\n",
    "  * dans cette famille, nous avons vu par exemple l'affectation et `if`, et nous en verrons bien d'autres.\n",
    "\n",
    "La différence essentielle est que les expressions peuvent être combinées entre elles pour faire des expressions plus grosses.\n",
    "\n",
    "Aussi, si vous avez un doute pour savoir si vous avez affaire à une expression ou à une instruction, demandez-vous si vous pourriez utiliser ce code **comme membre droit d'une affectation**. Si oui, vous avez une expression."
   ]
  },
  {
   "cell_type": "markdown",
   "metadata": {},
   "source": [
    "# Instruction If else"
   ]
  },
  {
   "cell_type": "markdown",
   "metadata": {},
   "source": [
    "L'instruction if else, permet de faire de l'exécution conditionnelle, c'est-à-dire qu'un morceau de votre code va s'exécuter en fonction du fait qu'un test soit vrai ou qu'un test soit faux.\n",
    "Dans une instruction if else, vous pouvez effectuer des tests à l'aide des opérateurs suivants :"
   ]
  },
  {
   "cell_type": "code",
   "execution_count": null,
   "metadata": {},
   "outputs": [],
   "source": [
    "a = 3\n",
    "b = 6\n",
    "c = [2,3,10,8,9]\n",
    "# supérieur\n",
    "a > b\n",
    "# supérieur ou égal\n",
    "a >= b\n",
    "# inférieur\n",
    "a < b\n",
    "# inférieur ou égal\n",
    "a <= b\n",
    "# égal\n",
    "a == b\n",
    "# différent\n",
    "a != b\n",
    "# appartient\n",
    "a in c\n",
    "# n'appartient pas\n",
    "b not in c"
   ]
  },
  {
   "cell_type": "markdown",
   "metadata": {},
   "source": [
    "Dans un if, vous pouvez mettre n'importe quel type d'expression mais nous reviendrons sur cet aspect des choses lorsque nous détaillerons le fonctionnement précis de l'instruction if else.\n",
    "\n",
    "Maintenant, prenons un exemple de test if else.\n",
    "\n",
    "Supposons que vous vouliez afficher un message si vous avez une note qui est supérieure à 10 sur 20."
   ]
  },
  {
   "cell_type": "code",
   "execution_count": null,
   "metadata": {},
   "outputs": [],
   "source": [
    "note = 8\n",
    "if note > 10:\n",
    "    print('reçu')\n",
    "    print('bravo !')\n",
    "else:\n",
    "    print('recalé')"
   ]
  },
  {
   "cell_type": "markdown",
   "metadata": {},
   "source": [
    "Je commence par définir une variable note qui vaut l'entier 8.\n",
    "Puis je vais écrire mon instruction if.\n",
    "Mon instruction if s'écrit de la manière suivante:\n",
    "- j'écris <span style=\"color:red;font-weight: bold\">if</span>, c'est l'instruction\n",
    "- puis une expression, ici c'est : note > 10\n",
    "- suivie de <span style=\"color:red;font-weight: bold\">:</span>\n",
    "- vient ensuite un bloc d'instructions : print('reçu') et print('bravo !')\n",
    "- peut ensuite intervenir une condition supplémentaire, c'est-à-dire que si mon if est faux je rentre dans la clause <span style=\"color:red;font-weight: bold\">else</span>.\n",
    "- si cette clause else est présente elle est également suivie de <span style=\"color:red;font-weight: bold\">:</span>\n",
    "- vient ensuite un nouveau bloc d'instructions : print('recalé')"
   ]
  },
  {
   "cell_type": "markdown",
   "metadata": {},
   "source": [
    "# Indentation fonctionnelle"
   ]
  },
  {
   "cell_type": "markdown",
   "metadata": {},
   "source": [
    "\n",
    "Python est un langage qui est conçu autour de cette notion de bloc d'instructions. Et c'est quelque chose qu'il est très important de bien comprendre. Dans un certain nombre de langages, vous n'avez pas cette notion de blocs d'instructions, mais les blocs d'instructions sont délimités par exemple par des accolades.\n",
    "\n",
    "Voici un même test if else que l'on vient d'écrire, mais avec une syntaxe qui pourrait être une syntaxe, par exemple, à la JavaScript."
   ]
  },
  {
   "cell_type": "code",
   "execution_count": null,
   "metadata": {},
   "outputs": [],
   "source": [
    "%%js\n",
    "note = 8;\n",
    "if (note > 10) {\n",
    "    alert('reçu');\n",
    "    alert('bravo !');\n",
    "} else {\n",
    "    alert('recalé');\n",
    "}"
   ]
  },
  {
   "cell_type": "markdown",
   "metadata": {},
   "source": [
    "\n",
    "Toutes mes instructions finissent par un ; pour déterminer la fin de l'instruction, et mes blocs d'instructions sont séparés par des accolades ouvrantes et des accolades fermantes.\n",
    "\n",
    "Cela constitue un problème connu en programmation, puisque, pour être capable de savoir où placer les accolades, on définit ce qu'on appelle des conventions de codage.\n",
    "La convention de codage n'a absolument aucun impact sur l'exécution de mon code, elle est simplement là pour faciliter la lecture et l'écriture du code.\n",
    "Or, ces conventions de codage font partie d'écoles de programmation, et certaines personnes préfèrent certaines conventions de codage, par exemple mettre les accolades en fin de ligne et en début de ligne, ou alors mettre les accolades alignées sur les instructions.\n",
    "En fait, vous vous rendrez compte, si vous programmez dans d'autres langages que Python, que lire un code écrit avec une convention de codage qui n'est pas la vôtre rend extrêmement difficile l'interprétation ou la lecture de ce code. \n",
    "\n",
    "En Python, vous n'avez pas ce problème puisque la convention de codage fait partie de la syntaxe. Si vous ne respectez pas la convention de codage, vous aurez une erreur de syntaxe donc votre code ne s'exécutera pas.\n",
    "\n",
    "L'avantage de ça, c'est qu'en Python, vous n'avez qu'une seule manière de présenter votre code.\n",
    "\n",
    "Ici, j'ai un code avec des accolades et des points virgules à la manière de Java. En Python, vous supprimez tout ce qui est point virgule, la fin d'une instruction, c'est le retour chariot, vous supprimez tout ce qui est accolade les blocs d'instructions sont tous décalés de 4 caractères vers la droite, et vous n'avez que ce fameux symbole <span style=\"color:red;font-weight: bold\">:</span>\n",
    "\n",
    "Vous pouvez vous demander mais pourquoi est-ce que je garde quand même le : ? En fait, vous gardez le : parce que ce : a été l'objet de tests utilisateurs et on s'est rendu compte que pour les utilisateurs, c'était plus facile de détecter qu'il y avait des blocs d'instructions lorsqu'ils étaient précédés d'un <span style=\"color:red;font-weight: bold\">:</span>"
   ]
  },
  {
   "cell_type": "markdown",
   "metadata": {},
   "source": [
    "## Conseils"
   ]
  },
  {
   "cell_type": "markdown",
   "metadata": {},
   "source": [
    "\n",
    "Le fait que Python utilise l'indentation comme base de sa syntaxe n'a presque que des avantages ; ça vous permet d'avoir un code écrit toujours de la même manière, extrêmement bien présenté, facile à lire, facile à écrire.\n",
    "\n",
    "Il a cependant un seul inconvénient, c'est que cette convention, cette syntaxe qui est basée sur l'indentation ne supporte pas très bien le copier-coller.\n",
    "\n",
    "Par conséquent, ma recommandation est lorsque vous copiez-collez du code, par exemple, que vous récupérez d'internet ou d'autres morceaux de code, vous devez toujours très attentivement vérifier que l'indentation respecte ce que vous voulez faire.\n",
    "\n",
    "Ensuite cette convention de codage qui décale les blocs d'instructions de 4 caractères vers la droite a la tendance à créer des lignes qui sont un petit peu grandes.\n",
    "\n",
    "En Python, on vous recommande de ne pas dépasser 79 caractères sur une seule ligne ; l'idée est de pouvoir mettre plusieurs éditeurs l'un à côté de l'autre, dans tous les cas de figures c'est plus facile de lire des lignes qui sont courtes que des lignes qui sont longues.\n",
    "\n",
    "En Python, on vous encourage à avoir peu de niveaux d'imbrications de blocs de code pour essayer de rester à ce niveau de 79 colonnes par fichier.\n",
    "\n",
    "Pour finir, Python vous permet assez facilement de retourner à la ligne tout ce qui est entre parenthèses, entre crochets ou entre accolades supporte le retour chariot sans créer de problème dans la syntaxe de Python.\n",
    "Par exemple, si vous avez une grande liste ou un grand nombre d'expressions séparées par des parenthèses, vous pouvez très facilement faire un retour chariot et votre éditeur vous permettra de bien aligner ces instructions tout en respectant la syntaxe des blocs d'instructions."
   ]
  },
  {
   "cell_type": "code",
   "execution_count": null,
   "metadata": {},
   "outputs": [],
   "source": [
    "a = [12, 87, 147, 458, 45,\n",
    "     15, 78, 89,\n",
    "     454, 155, 588, 154, 1154, 154,\n",
    "     966, 5454, 7878, 454, ]\n",
    "set(a)\n"
   ]
  },
  {
   "cell_type": "markdown",
   "metadata": {},
   "source": [
    "# If imbrications"
   ]
  },
  {
   "cell_type": "markdown",
   "metadata": {},
   "source": [
    "Voyons tout de suite comment on pourrait écrire plusieurs tests imbriqués :"
   ]
  },
  {
   "cell_type": "code",
   "execution_count": null,
   "metadata": {},
   "outputs": [],
   "source": [
    "entree = 'spam'\n",
    "\n",
    "# pour imbriquer il suffit d'indenter de 8 espaces\n",
    "if 'a' in entree:\n",
    "    if 'b' in entree:\n",
    "        cas11 = True\n",
    "        print('a et b')\n",
    "    else:\n",
    "        cas12 = True\n",
    "        print('a mais pas b')\n",
    "else:\n",
    "    if 'b' in entree:\n",
    "        cas21 = True\n",
    "        print('b mais pas a')\n",
    "    else:\n",
    "        cas22 = True\n",
    "        print('ni a ni b')"
   ]
  },
  {
   "cell_type": "markdown",
   "metadata": {},
   "source": [
    "Dans cette construction assez simple, remarquez bien **les deux points ':'** à chaque début de bloc, c'est-à-dire à chaque fin de ligne `if` ou `else`."
   ]
  },
  {
   "cell_type": "markdown",
   "metadata": {},
   "source": [
    "Cette façon d'organiser le code peut paraître très étrange, notamment aux gens habitués à un autre langage de programmation, puisqu'en général les syntaxes des langages sont conçues de manière à être insensibles aux espaces et à la présentation.\n",
    "\n",
    "Comme vous le constaterez à l'usage cependant, une fois qu'on s'y est habitué cette pratique est très agréable, une fois qu'on a écrit la dernière ligne du code, on n'a pas à réfléchir à refermer le bon nombre d'accolades ou de *end*.\n",
    "\n",
    "Par ailleurs, comme pour tous les langages, votre éditeur favori connaît cette syntaxe et va vous aider à respecter la règle des 4 caractères. Nous ne pouvons pas publier ici une liste des commandes disponibles par éditeur, nous vous invitons le cas échéant à échanger entre vous sur le forum pour partager les recettes que vous utilisez avec votre éditeur / environnement de programmation favori."
   ]
  },
  {
   "cell_type": "markdown",
   "metadata": {},
   "source": [
    "# If aller plus loin"
   ]
  },
  {
   "cell_type": "markdown",
   "metadata": {},
   "source": [
    "Les instructions <code>if</code> en Python nous permettent de dire à l'ordinateur d'effectuer des actions alternatives basées sur un certain ensemble de résultats.\n",
    "\n",
    "Verbalement, nous pouvons imaginer que nous disons à l'ordinateur :\n",
    "\n",
    "\"Si ce cas se produit, exécutez une action\"\n",
    "\n",
    "Nous pouvons ensuite développer l'idée avec les instructions <code>elif</code> et <code>else</code>, qui nous permettent de dire à l'ordinateur :\n",
    "\n",
    "\"Si ce cas se produit, effectuez une action. Dans le cas contraire, si un autre cas se produit, exécutez une autre action. Sinon, si *aucun* des cas précédents ne s'est produit, exécutez cette action\".\n",
    "\n",
    "Examinons le format syntaxique des instructions <code>if</code> pour avoir une meilleure idée de la situation :\n",
    "\n",
    "```python\n",
    "    if case1:\n",
    "        perform action1\n",
    "    elif case2:\n",
    "        perform action2\n",
    "    else: \n",
    "        perform action3\n",
    "```"
   ]
  },
  {
   "cell_type": "markdown",
   "metadata": {},
   "source": [
    "## Premier exemple"
   ]
  },
  {
   "cell_type": "code",
   "execution_count": null,
   "metadata": {},
   "outputs": [],
   "source": [
    "if True:\n",
    "    print('vrai')"
   ]
  },
  {
   "cell_type": "markdown",
   "metadata": {},
   "source": [
    "Ajoutons l'instruction else :"
   ]
  },
  {
   "cell_type": "code",
   "execution_count": null,
   "metadata": {},
   "outputs": [],
   "source": [
    "x = False\n",
    "if x:\n",
    "    print('x est vrai')\n",
    "else:\n",
    "    print('x est faux')"
   ]
  },
  {
   "cell_type": "markdown",
   "metadata": {},
   "source": [
    "## Branches multiples\n",
    "\n",
    "Voyons plus en détail jusqu'où les <code>if</code>, <code>elif</code> et <code>else</code> peuvent nous emmener !\n",
    "\n",
    "Nous écrivons ceci dans une structure imbriquée. Notez comment les <code>if</code>, <code>elif</code> et <code>else</code> s'alignent dans le code. Cela peut vous aider à voir quel <code>if</code> est lié à quelle déclaration <code>elif</code> ou <code>else</code>."
   ]
  },
  {
   "cell_type": "code",
   "execution_count": null,
   "metadata": {},
   "outputs": [],
   "source": [
    "loc = 'Bank'\n",
    "if loc == 'Auto Shop':\n",
    "    print('Welcome to the Auto Shop!')  # si loc est 'Auto Shop'\n",
    "elif loc == 'Bank':\n",
    "    print('Welcome to the bank!')  # si loc est 'Bank'\n",
    "else:\n",
    "    print('Where are you?')"
   ]
  },
  {
   "cell_type": "markdown",
   "metadata": {},
   "source": [
    "Notez que les instructions <code>if</code> imbriquées sont toutes vérifiées jusqu'à ce qu'un booléen True entraîne l'exécution du code imbriqué en dessous. Vous devez également noter que vous pouvez insérer autant d'instructions <code>elif</code> que vous le souhaitez avant de terminer par un <code>else</code>.\n",
    "\n",
    "Il est à noter que l'utilisatiion de l'instruction `else` et de l'instrcution `elif` sont indépendantes. On peut utuliser un `else` sans utiliser de `elif` et inversement."
   ]
  },
  {
   "cell_type": "markdown",
   "metadata": {},
   "source": [
    "## Evaluation paresseuse"
   ]
  },
  {
   "cell_type": "markdown",
   "metadata": {},
   "source": [
    "Comme on s'en doute, les expressions conditionnelles **sont évaluées jusqu'à obtenir un résultat vrai** - ou considéré comme vrai -, et le bloc correspondant est alors exécuté. Le point important ici est qu'**une fois qu'on a obtenu un résultat vrai**, on sort de l'expression conditionnelle **sans évaluer les autres conditions**. \n",
    "En termes savants, on parle d'évaluation paresseuse : on s'arrête dès qu'on peut."
   ]
  },
  {
   "cell_type": "code",
   "execution_count": null,
   "metadata": {},
   "outputs": [],
   "source": [
    "b = 10\n",
    "if b > 0:\n",
    "    print('positif')\n",
    "elif b == 3:\n",
    "    print('travail 1')\n",
    "elif b == 5:\n",
    "    print('travail 2')\n",
    "elif b == 10:\n",
    "    print('travail 3')\n",
    "else:\n",
    "    print('negatif')  "
   ]
  },
  {
   "cell_type": "markdown",
   "metadata": {},
   "source": [
    "Les lignes qui test `b == 3`, `b == 5` et ` b == 10` ne servent à rien : elles seront systèmatiquement \"courct-circuiter\" par le test `b > 0`. L'ensemebel des lignes des blocs d'instructions situés en dessous de ces tests ne servent à rien."
   ]
  },
  {
   "cell_type": "markdown",
   "metadata": {},
   "source": [
    "C'est important de bien comprendre quels sont les tests qui sont réellement évalués pour deux raisons :\n",
    "\n",
    "* d'abord, pour des raisons de performance ; comme on n'évalue que les tests nécessaires, si un des tests prend du temps, il est peut-être préférable de le faire en dernier ;\n",
    "* mais aussi et surtout, il se peut tout à fait qu'un test fasse des **effets de bord**, c'est-à-dire qu'il modifie un ou plusieurs objets."
   ]
  },
  {
   "cell_type": "markdown",
   "metadata": {},
   "source": [
    "Dans notre premier exemple, les conditions elles-mêmes sont inoffensives ; la valeur de `s` reste *identique*, que l'on *évalue ou non* les différentes conditions.\n",
    "\n",
    "Mais nous allons voir ci-dessous qu'il est relativement facile d'écrire des conditions qui **modifient** par **effet de bord** les objets mutables sur lesquelles elles opèrent, et dans ce cas il est crucial de bien assimiler la règle des évaluations des expressions dans un `if`."
   ]
  },
  {
   "cell_type": "markdown",
   "metadata": {},
   "source": [
    "Pour illustrer la notion d'**effet de bord**, nous revenons sur la méthode de liste `pop()` qui, on le rappelle, renvoie un élément de liste **après l'avoir effacé** de la liste."
   ]
  },
  {
   "cell_type": "code",
   "execution_count": null,
   "metadata": {},
   "outputs": [],
   "source": [
    "# on se donne une liste\n",
    "liste = ['premier', 'deuxieme', 'troisieme']\n",
    "print(f\"liste={liste}\")"
   ]
  },
  {
   "cell_type": "code",
   "execution_count": null,
   "metadata": {},
   "outputs": [],
   "source": [
    "# pop(0) renvoie le premier élément de la liste, et raccourcit la liste\n",
    "element = liste.pop(0)\n",
    "print(f\"après pop(0), element={element} et liste={liste}\")"
   ]
  },
  {
   "cell_type": "code",
   "execution_count": null,
   "metadata": {},
   "outputs": [],
   "source": [
    "# et ainsi de suite\n",
    "element = liste.pop(0)\n",
    "print(f\"après pop(0), element={element} et liste={liste}\")"
   ]
  },
  {
   "cell_type": "markdown",
   "metadata": {},
   "source": [
    "### Conditions avec effet de bord"
   ]
  },
  {
   "cell_type": "markdown",
   "metadata": {},
   "source": [
    "Une fois ce rappel fait, voyons maintenant l'exemple suivant :"
   ]
  },
  {
   "cell_type": "code",
   "execution_count": null,
   "metadata": {},
   "outputs": [],
   "source": [
    "liste = list(range(5))\n",
    "print('liste en entree:', liste, 'de taille', len(liste))"
   ]
  },
  {
   "cell_type": "code",
   "execution_count": null,
   "metadata": {},
   "outputs": [],
   "source": [
    "if liste.pop(0) <= 0:\n",
    "    print('cas 1')\n",
    "elif liste.pop(0) <= 1:\n",
    "    print('cas 2')\n",
    "elif liste.pop(0) <= 2:\n",
    "    print('cas 3')\n",
    "else:\n",
    "    print('cas 4')\n",
    "print('liste en sortie de taille', len(liste))"
   ]
  },
  {
   "cell_type": "markdown",
   "metadata": {},
   "source": [
    "Avec cette entrée, le premier test est vrai (car `pop(0)` renvoie 0), aussi on n'exécute en tout `pop()` qu'**une seule fois**, et donc à la sortie la liste n'a été raccourcie que d'un élément."
   ]
  },
  {
   "cell_type": "markdown",
   "metadata": {},
   "source": [
    "Exécutons à présent le même code avec une entrée différente :"
   ]
  },
  {
   "cell_type": "code",
   "execution_count": null,
   "metadata": {},
   "outputs": [],
   "source": [
    "liste = list(range(5, 10))\n",
    "print('en entree: liste=', liste, 'de taille', len(liste))"
   ]
  },
  {
   "cell_type": "code",
   "execution_count": null,
   "metadata": {},
   "outputs": [],
   "source": [
    "if liste.pop(0) <= 0:\n",
    "    print('cas 1')\n",
    "elif liste.pop(0) <= 1:\n",
    "    print('cas 2')\n",
    "elif liste.pop(0) <= 2:\n",
    "    print('cas 3')\n",
    "else:\n",
    "    print('cas 4')\n",
    "print('en sortie: liste=', liste, 'de taille', len(liste))"
   ]
  },
  {
   "cell_type": "markdown",
   "metadata": {},
   "source": [
    "On observe que cette fois la liste a été **raccourcie 3 fois**, car les trois tests se sont révélés faux."
   ]
  },
  {
   "cell_type": "markdown",
   "metadata": {},
   "source": [
    "Cet exemple vous montre qu'il faut être attentif avec des conditions qui font des effets de bord. Bien entendu, ce type de pratique est de manière générale à utiliser avec beaucoup de discernement."
   ]
  },
  {
   "cell_type": "markdown",
   "metadata": {},
   "source": [
    "# Expression conditionnelle"
   ]
  },
  {
   "cell_type": "markdown",
   "metadata": {},
   "source": [
    "Il existe en Python une expression qui fait le même genre de test ; c'est la forme dite d'**expression conditionnelle**, qui est une **expression à part entière**, avec la syntaxe :\n",
    "\n",
    "```python\n",
    "<résultat_si_vrai> if <condition> else <résultat_si_faux>\n",
    "```"
   ]
  },
  {
   "cell_type": "markdown",
   "metadata": {},
   "source": [
    "Ainsi on pourrait écrire l'exemple ci-dessus de manière plus simple et plus concise comme ceci :"
   ]
  },
  {
   "cell_type": "code",
   "execution_count": null,
   "metadata": {},
   "outputs": [],
   "source": [
    "y = 12 if x else 35\n",
    "print(y)"
   ]
  },
  {
   "cell_type": "markdown",
   "metadata": {},
   "source": [
    "Cette construction peut souvent rendre le style de programmation plus fonctionnel et plus fluide."
   ]
  },
  {
   "cell_type": "markdown",
   "metadata": {},
   "source": [
    "## Imbrications"
   ]
  },
  {
   "cell_type": "markdown",
   "metadata": {},
   "source": [
    "Puisque cette forme est une expression, on peut l'utiliser dans une autre expression conditionnelle, comme ici :"
   ]
  },
  {
   "cell_type": "code",
   "execution_count": null,
   "metadata": {},
   "outputs": [],
   "source": [
    "# on veut calculer en fonction d'une entrée x\n",
    "# une sortie qui vaudra\n",
    "# -1 si x < -10\n",
    "# 0 si -10 <= x <= 10\n",
    "# 1 si x > 10\n",
    "\n",
    "x = 5 # ou quoi que ce soit d'autre\n",
    "\n",
    "valeur = -1 if x < -10 else (0 if x <= 10 else 1)\n",
    "\n",
    "print(valeur)"
   ]
  },
  {
   "cell_type": "markdown",
   "metadata": {},
   "source": [
    "Remarquez bien que cet exemple est équivalent à la ligne\n",
    "\n",
    "```python\n",
    "valeur = -1 if x < -10 else 0 if x <= 10 else 1\n",
    "```\n",
    "\n",
    "mais qu'il est fortement recommandé d'utiliser, comme on l'a fait, un parenthésage pour lever toute ambiguïté."
   ]
  }
 ],
 "metadata": {
  "kernelspec": {
   "display_name": "Python 3",
   "language": "python",
   "name": "python3"
  },
  "language_info": {
   "codemirror_mode": {
    "name": "ipython",
    "version": 3
   },
   "file_extension": ".py",
   "mimetype": "text/x-python",
   "name": "python",
   "nbconvert_exporter": "python",
   "pygments_lexer": "ipython3",
   "version": "3.12.5"
  }
 },
 "nbformat": 4,
 "nbformat_minor": 2
}
