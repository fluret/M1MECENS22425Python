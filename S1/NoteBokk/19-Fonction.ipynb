{
 "cells": [
  {
   "cell_type": "markdown",
   "metadata": {},
   "source": [
    "# Les fonctions Python"
   ]
  },
  {
   "cell_type": "markdown",
   "metadata": {},
   "source": [
    "## Qu’est-ce qu’une fonction ?"
   ]
  },
  {
   "cell_type": "markdown",
   "metadata": {},
   "source": [
    "Une fonction est un bloc de code nommé. Une fonction correspond à un ensemble d’instructions créées pour effectuer une tâche précise, regroupées ensemble et qu’on va pouvoir exécuter autant de fois qu’on le souhaite en “l’appelant” avec son nom. Notez “qu’appeler” une fonction signifie exécuter les instructions qu’elle contient.\n",
    "\n",
    "L’intérêt principal des fonctions se situe dans le fait qu’on va pouvoir appeler une fonction et donc exécuter les instructions qu’elle contient autant de fois qu’on le souhaite, ce qui constitue au final un gain de temps conséquent pour le développement d’un programme et ce qui nous permet de créer un code beaucoup plus clair.\n",
    "\n",
    "Il existe deux grands “types” de fonctions en Python : les fonctions prédéfinies et les fonctions créées par l’utilisateur. "
   ]
  },
  {
   "cell_type": "markdown",
   "metadata": {},
   "source": [
    "## Les fonctions prédéfinies Python"
   ]
  },
  {
   "cell_type": "markdown",
   "metadata": {},
   "source": [
    "Les fonction prédéfinies sont des fonctions déjà créées et mises à notre disposition par Python. Dans ce cours, nous avons déjà utilisé des fonctions prédéfinies comme la fonction print() ou la fonction type() par exemple.\n",
    "\n",
    "Ici, je tiens à rappeler qu’en programmation rien n’est magique : la “programmation”… ne représente que des séries d’instruction programmées. \n",
    "\n",
    "Lorsqu’on a utilisé print() pour afficher des données pour la première fois ou type() pour connaitre le type d’une donnée, on ne s’est pas posé la question de ce qu’il se passait en arrière plan.\n",
    "\n",
    "En fait, ces deux fonctions sont des fonctions complexes et qui contiennent de nombreuses lignes d’instructions leur permettant d’accomplir une tâche précise : l’affichage d’un résultat ou la détermination du type d’une valeur en l’occurence.\n",
    "\n",
    "Cette complexité nous est cachée : nous n’avons qu’à appeler nos fonctions pour qu’elles fassent leur travail et n’avons pas à écrire la série d’instructions qu’elles contiennent à chaque fois et c’est tout l’intérêt des fonctions.\n",
    "\n",
    "Python, dans sa version 3.7.4, met à notre disposition quasiment 70 fonctions prédéfinies (sans compter les fonctions des modules ou extensions dont nous parlerons plus tard). Vous pouvez déjà trouver la liste ci-dessous. Nous serons amenés à utiliser la plupart d’entre elles dans ce cours ; nous les définirons à ce moment là. Considérez le tableau ci-dessous comme une simple référence."
   ]
  },
  {
   "cell_type": "markdown",
   "metadata": {},
   "source": [
    "## Les fonction Python définies par l’utilisateur"
   ]
  },
  {
   "cell_type": "markdown",
   "metadata": {},
   "source": [
    "En plus des fonction prédéfinies, Python nous laisse la possibilité de définir nos propres fonctions. Ces fonctions ne seront bien évidemment disponibles et utilisables que dans l’espace où elles ont été définies, c’est-à-dire uniquement au sein de nos scripts et non pas pour l’ensemble des développeurs utilisant Python.\n",
    "\n",
    "On va vouloir créer nos propres fonctions Python lorsque nos programmes utilisent de manière répétées une même série d’instructions : plutôt que de réécrire ces instructions à chaque fois, autant utiliser une fonction ! \n",
    "\n",
    "Les fonctions vont aussi être de très bons outils d’abstraction lorsqu’on voudra distribuer notre code : on préférera souvent fournir des fonctions à utiliser aux autres développeurs plutôt que de les laisser se débrouiller avec des séries d’instructions “sauvages”.\n",
    "\n",
    "Pour définir une nouvelle fonction en Python, nous allons utiliser le mot clef `def` qui sert à introduire une définition de fonction. Ce mot clef doit être suivi du nom de la fonction, d’une paire de parenthèses au sein desquelles on pourra fournir une liste de paramètres (nous reviendrons là dessus plus tard) et de `:` pour terminer la ligne comme ceci :\n",
    "\n",
    "```python\n",
    "def ma_fonction():\n",
    "```\n",
    "\n",
    "Le nom d’une fonction Python doit respecter les normes usuelles concernant les noms : un nom de fonction doit commencer par une lettre ou un underscore et ne contenir que des caractères alphanumériques classiques (pas d’accent ni de cédille ni aucun caractère spécial).\n",
    "\n",
    "Notez que les noms de fonctions sont sensibles à la casse en Python, ce qui signifie que les fonctions ma_fonction(), Ma_fonction(), ma_FONCtion() et MA_FONCTION() par exemple seront des fonctions bien différentes pour Python.\n",
    "\n",
    "Nous allons ensuite placer la liste des différentes instructions de notre fonction à la ligne suivant sa définition et en les indentant par rapport à la définition afin que Python comprenne que ces instructions appartiennent à notre fonction. Notez que la première instruction d’une fonction peut être une chaîne de caractères littérale qui sera alors utilisée comme chaine de documentation de la fonction."
   ]
  },
  {
   "cell_type": "markdown",
   "metadata": {},
   "source": [
    "Créons immédiatement deux fonctions bonjour() et BONJOUR() toutes simples dont le but va être d’afficher un message en exécutant elles-mêmes une fonction print(). On va faire cela comme cela :"
   ]
  },
  {
   "cell_type": "code",
   "execution_count": 3,
   "metadata": {},
   "outputs": [],
   "source": [
    "def bonjour():\n",
    "    print('Bonjour à tous')\n",
    "def BONJOUR():\n",
    "    print('BONJOUR À TOUS')"
   ]
  },
  {
   "cell_type": "markdown",
   "metadata": {},
   "source": [
    "Nous avons ici défini nos deux premières fonctions. Elles se contentent simplement d’exécuter une fonction print().\n",
    "\n",
    "Maintenant que nos fonctions sont créées, nous allons pouvoir les appeler pour exécuter le code qu’elles contiennent. Pour cela, nous allons utiliser leur nom suivi d’un couple de parenthèses. On va pouvoir appeler nos fonctions autant de fois qu’on le souhaite dans notre script : c’est tout l’intérêt des fonctions ! "
   ]
  },
  {
   "cell_type": "code",
   "execution_count": 4,
   "metadata": {},
   "outputs": [
    {
     "name": "stdout",
     "output_type": "stream",
     "text": [
      "Bonjour à tous\n",
      "BONJOUR À TOUS\n",
      "Bonjour à tous\n"
     ]
    }
   ],
   "source": [
    "bonjour()\n",
    "BONJOUR()\n",
    "bonjour()"
   ]
  },
  {
   "cell_type": "markdown",
   "metadata": {},
   "source": [
    "## Les paramètres et arguments des fonctions"
   ]
  },
  {
   "cell_type": "markdown",
   "metadata": {},
   "source": [
    "Les fonctions que nous avons créées ci-dessus se contentent d’exécuter toujours la même fonction print() et donc de renvoyer toujours le même message.\n",
    "\n",
    "Elles ne sont pas très utiles en l’état. Un autre aspect fondamental des fonctions est qu’elles vont pouvoir accepter des informations qui viennent de l’extérieur, c’est-à-dire qui sont externes à leur définition et qui vont les amener à produire des résultats différents. Souvent même, les fonctions vont avoir besoin qu’on leur passe des informations externes pour fonctionner normalement.\n",
    "\n",
    "C’est par exemple le cas des fonctions print() et type() : ces deux fonctions permettent d’afficher un message et de déterminer le type d’une donnée. Pour afficher un message, print() va avoir besoin qu’on lui passe les données qu’elle doit afficher. De même, type() va avoir besoin qu’on lui fournisse la donnée dont elle doit déterminer le type.\n",
    "\n",
    "Ces informations dont vont avoir besoin certaines fonctions pour fonctionner et qu’on va passer à nos fonctions entre le couple de parenthèses sont appelées des arguments ou des paramètres.\n",
    "\n",
    "Pour rester très simple et très schématique ici, on parle de “paramètres” lorsqu’on définit une fonction, c’est-à-dire lorsqu’on indique dans la définition de la fonction que telle fonction a besoin d’une, de deux… informations pour fonctionner et on parle “d’arguments” pour désigner les valeurs effectivement passées à une fonction lorsqu’on l’utilise. "
   ]
  },
  {
   "cell_type": "markdown",
   "metadata": {},
   "source": [
    "Illustrons cela immédiatement en reprenant et en modifiant notre fonction bonjour() afin qu’elle affiche “Bonjour “ suivi du nom de quelqu’un qui va lui être fourni ultérieurement. Pour réaliser cela, on va indiquer dans la définition de la fonction que celle-ci a besoin d’un paramètre pour fonctionner.\n",
    "\n",
    "On peut donner n’importe quel nom à ce paramètre dans la définition puisque celui-ci sera dans tous les cas remplacé par la valeur effective passée lors de l’appel à la fonction. Pour une meilleure lisibilité, il est cependant conseillé de fournir des noms descriptifs et paramètres des fonctions. On peut par exemple l’appeler prenom dans notre cas :"
   ]
  },
  {
   "cell_type": "code",
   "execution_count": 5,
   "metadata": {},
   "outputs": [],
   "source": [
    "def bonjour(prenom):\n",
    "    print(f'Bonjour {prenom}')"
   ]
  },
  {
   "cell_type": "markdown",
   "metadata": {},
   "source": [
    "\n",
    "Expliquons ce code. On crée une nouvelle fonction bonjour() dont le rôle est d’afficher “Bonjour” suivi du prénom de quelqu’un. Pour que cela fonctionne, il va falloir lui passer un prénom lorsqu’on appelle notre fonction en argument de celle-ci.\n",
    "\n",
    "Dans la définition de la fonction, on va donc indiquer que notre fonction a besoin d’un paramètre pour fonctionner. Ici, on choisit le mot “prenom” pour définir notre paramètre. On aurait aussi bien pu choisir “toto”. Ensuite, dans le corps de notre fonction, on utilise une fonction print() qui va afficher “Bonjour” suivi du prénom qu’on aura indiqué lorsqu’on utilisera la fonction.\n",
    "\n",
    "Ici, je vous rappelle que le mot qu’on utilise comme paramètre lors de la définition de la fonction sera remplacé par la valeur passée en argument lors de l’appel à la fonction, c'est une variable. On va donc utiliser notre paramètre dans print() afin que cette fonction affiche bien “Bonjour” suivi d’un prénom.\n",
    "\n",
    "On utilise ensuite notre fonction plusieurs fois, en lui passant un prénom différent à chaque fois en argument. La valeur passée va se substituer au paramètre défini lors de la définition de la fonction."
   ]
  },
  {
   "cell_type": "code",
   "execution_count": 6,
   "metadata": {},
   "outputs": [
    {
     "name": "stdout",
     "output_type": "stream",
     "text": [
      "Bonjour Alice\n",
      "Bonjour Bob\n"
     ]
    }
   ],
   "source": [
    "bonjour('Alice')\n",
    "bonjour('Bob')"
   ]
  },
  {
   "cell_type": "markdown",
   "metadata": {},
   "source": [
    "## Utilisation de return"
   ]
  },
  {
   "cell_type": "markdown",
   "metadata": {},
   "source": [
    "`return` permet à une fonction de *retourner* un résultat qui peut ensuite être stocké dans une variable ou utilisé de la manière souhaitée par l'utilisateur.\n",
    "\n",
    "Voyons quelques exemples qui utilisent l'instruction return. \n",
    "\n",
    "### Exemple 1 : Fonction d'addition"
   ]
  },
  {
   "cell_type": "code",
   "execution_count": 8,
   "metadata": {},
   "outputs": [],
   "source": [
    "def add_num(num1,num2):\n",
    "    return num1+num2"
   ]
  },
  {
   "cell_type": "code",
   "execution_count": 9,
   "metadata": {},
   "outputs": [
    {
     "data": {
      "text/plain": [
       "9"
      ]
     },
     "execution_count": 9,
     "metadata": {},
     "output_type": "execute_result"
    }
   ],
   "source": [
    "add_num(4,5)"
   ]
  },
  {
   "cell_type": "code",
   "execution_count": 10,
   "metadata": {},
   "outputs": [],
   "source": [
    "# Can also save as variable due to return\n",
    "result = add_num(4,5)"
   ]
  },
  {
   "cell_type": "code",
   "execution_count": 12,
   "metadata": {},
   "outputs": [
    {
     "name": "stdout",
     "output_type": "stream",
     "text": [
      "9\n",
      "30\n"
     ]
    }
   ],
   "source": [
    "print(result)\n",
    "print(add_num(10, 20))"
   ]
  },
  {
   "cell_type": "markdown",
   "metadata": {},
   "source": [
    "Que se passe-t-il si nous entrons deux chaînes de caractères ?"
   ]
  },
  {
   "cell_type": "code",
   "execution_count": 13,
   "metadata": {},
   "outputs": [
    {
     "name": "stdout",
     "output_type": "stream",
     "text": [
      "onetwo\n"
     ]
    }
   ],
   "source": [
    "print(add_num('one','two'))"
   ]
  },
  {
   "cell_type": "markdown",
   "metadata": {},
   "source": [
    "Notez que, comme nous ne déclarons pas de types de variables en Python, cette fonction pourrait être utilisée pour additionner des nombres ou des séquences ! Nous apprendrons plus tard à ajouter des contrôles pour s'assurer que l'utilisateur introduit les bons arguments dans une fonction.\n",
    "\n",
    "Commençons également à utiliser les instructions *break*, *continue* et *pass* dans notre code. Nous les avons introduites au cours de la conférence while.\n",
    "\n"
   ]
  },
  {
   "cell_type": "markdown",
   "metadata": {},
   "source": [
    "Finally lets go over a full example of creating a function to check if a number is prime ( a common interview exercise).\n",
    "\n",
    "We know a number is prime if that number is only evenly divisible by 1 and itself. Let's write our first version of the function to check all the numbers from 1 to N and perform modulo checks."
   ]
  },
  {
   "cell_type": "code",
   "execution_count": null,
   "metadata": {},
   "outputs": [],
   "source": [
    "def is_prime(num):\n",
    "    '''\n",
    "    Naive method of checking for primes. \n",
    "    '''\n",
    "    for n in range(2,num):\n",
    "        if num % n == 0:\n",
    "            print 'not prime'\n",
    "            break\n",
    "    else: # If never mod zero, then prime\n",
    "        print 'prime'"
   ]
  },
  {
   "cell_type": "code",
   "execution_count": null,
   "metadata": {},
   "outputs": [
    {
     "name": "stdout",
     "output_type": "stream",
     "text": [
      "not prime\n"
     ]
    }
   ],
   "source": [
    "is_prime(16)"
   ]
  },
  {
   "cell_type": "markdown",
   "metadata": {},
   "source": [
    "Note how we break the code after the print statement! We can actually improve this by only checking to the square root of the target number, also we can disregard all even numbers after checking for 2. We'll also switch to returning a boolean value to get an example of using return statements:"
   ]
  },
  {
   "cell_type": "code",
   "execution_count": null,
   "metadata": {},
   "outputs": [],
   "source": [
    "import math\n",
    "\n",
    "def is_prime(num):\n",
    "    '''\n",
    "    Better method of checking for primes. \n",
    "    '''\n",
    "    if num % 2 == 0 and num > 2: \n",
    "        return False\n",
    "    for i in range(3, int(math.sqrt(num)) + 1, 2):\n",
    "        if num % i == 0:\n",
    "            return False\n",
    "    return True"
   ]
  },
  {
   "cell_type": "code",
   "execution_count": null,
   "metadata": {},
   "outputs": [
    {
     "data": {
      "text/plain": [
       "False"
      ]
     },
     "metadata": {},
     "output_type": "display_data"
    }
   ],
   "source": [
    "is_prime(14)"
   ]
  },
  {
   "cell_type": "markdown",
   "metadata": {},
   "source": [
    "Great! You should now have a basic understanding of creating your own functions to save yourself from repeatedly writing code!"
   ]
  }
 ],
 "metadata": {
  "kernelspec": {
   "display_name": "Python 3",
   "language": "python",
   "name": "python3"
  },
  "language_info": {
   "codemirror_mode": {
    "name": "ipython",
    "version": 3
   },
   "file_extension": ".py",
   "mimetype": "text/x-python",
   "name": "python",
   "nbconvert_exporter": "python",
   "pygments_lexer": "ipython3",
   "version": "3.12.6"
  }
 },
 "nbformat": 4,
 "nbformat_minor": 2
}
