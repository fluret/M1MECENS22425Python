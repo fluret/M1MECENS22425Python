{
 "cells": [
  {
   "cell_type": "markdown",
   "id": "abacfeee",
   "metadata": {},
   "source": [
    "# Objets mutables et objets immuables"
   ]
  },
  {
   "cell_type": "markdown",
   "id": "35a1402b",
   "metadata": {},
   "source": [
    "## Complément - niveau basique"
   ]
  },
  {
   "cell_type": "markdown",
   "id": "a03532de",
   "metadata": {},
   "source": [
    "### Les chaînes sont des objets immuables"
   ]
  },
  {
   "cell_type": "markdown",
   "id": "e972cae2",
   "metadata": {},
   "source": [
    "Voici un exemple d'un fragment de code qui illustre le caractère immuable des chaînes de caractères. Nous l'exécutons sous [pythontutor](pythontutor.com), afin de bien illustrer les relations entre variables et objets."
   ]
  },
  {
   "cell_type": "code",
   "execution_count": null,
   "id": "fce073db",
   "metadata": {},
   "outputs": [],
   "source": [
    "# il vous faut charger cette cellule\n",
    "# pour pouvoir utiliser les suivantes\n",
    "%load_ext tutormagic"
   ]
  },
  {
   "cell_type": "markdown",
   "id": "bf28cdf0",
   "metadata": {},
   "source": [
    "**Note** : une fois que vous avez évalué la cellule avec `%%tutor`, vous devez cliquer sur le bouton `Next` pour voir pas à pas le comportement du programme."
   ]
  },
  {
   "cell_type": "markdown",
   "id": "bfe2044f",
   "metadata": {},
   "source": [
    "Le scénario est très simple, on crée deux variables `s1` et `s2` vers le même objet `'abc'`, puis on fait une opération `+=` sur la variable `s1`.\n",
    "\n",
    "Comme l'objet est une chaîne, il est donc immuable, on ne **peut pas modifier l'objet** directement ; pour obtenir l'effet recherché (à savoir que `s1` s'allonge de `'def'`), Python **crée un deuxième objet**, comme on le voit bien sous pythontutor :"
   ]
  },
  {
   "cell_type": "code",
   "execution_count": 3,
   "id": "f1296df3",
   "metadata": {},
   "outputs": [
    {
     "name": "stderr",
     "output_type": "stream",
     "text": [
      "UsageError: Cell magic `%%tutor` not found.\n"
     ]
    }
   ],
   "source": [
    "%%tutor --lang python3 --heapPrimitives --run --height=400\n",
    "# deux variables vers le même objet\n",
    "s1 = 'abc'\n",
    "s2 = s1\n",
    "# on essaie de modifier l'objet\n",
    "s1 += 'def'\n",
    "# pensez à cliquer sur `Next`\n",
    "print(s1)\n",
    "print(s2)"
   ]
  },
  {
   "cell_type": "markdown",
   "id": "ce44e228",
   "metadata": {},
   "source": [
    "### Les listes sont des objets mutables"
   ]
  },
  {
   "cell_type": "markdown",
   "id": "5e95af61",
   "metadata": {},
   "source": [
    "Voici ce qu'on obtient par contraste pour le même scénario mais qui cette fois utilise des listes, qui sont des objets mutables :"
   ]
  },
  {
   "cell_type": "code",
   "execution_count": null,
   "id": "f149b818",
   "metadata": {},
   "outputs": [],
   "source": [
    "%%tutor --lang python3 --heapPrimitives --run --height=600\n",
    "# deux variables vers le même objet\n",
    "liste1 = ['a', 'b', 'c']\n",
    "liste2 = liste1\n",
    "# on modifie l'objet\n",
    "liste1 += ['d', 'e', 'f']\n",
    "# pensez à cliquer sur `Next`\n",
    "print(liste1)\n",
    "print(liste2)"
   ]
  },
  {
   "cell_type": "markdown",
   "id": "aa70d0c3",
   "metadata": {},
   "source": [
    "### Conclusion"
   ]
  },
  {
   "cell_type": "markdown",
   "id": "cf4ea23f",
   "metadata": {},
   "source": [
    "Ce comportement n'est pas propre à l'usage de l'opérateur `+=`, les objets mutables et immuables ont par essence un comportement différent, il est très important d'avoir ceci présent à l'esprit.\n",
    "\n",
    "Nous aurons notamment l'occasion d'approfondir cela dans la séquence consacrée aux références partagées, en semaine 3."
   ]
  }
 ],
 "metadata": {
  "jupytext": {
   "cell_metadata_filter": "all, -hidden, -heading_collapsed, -run_control, -trusted",
   "notebook_metadata_filter": "all, -jupytext.text_representation.jupytext_version, -jupytext.text_representation.format_version, -language_info.version, -language_info.codemirror_mode.version, -language_info.codemirror_mode, -language_info.file_extension, -language_info.mimetype, -toc",
   "text_representation": {
    "extension": ".md",
    "format_name": "myst"
   }
  },
  "kernelspec": {
   "display_name": "Python 3 (ipykernel)",
   "language": "python",
   "name": "python3"
  },
  "language_info": {
   "codemirror_mode": {
    "name": "ipython",
    "version": 3
   },
   "file_extension": ".py",
   "mimetype": "text/x-python",
   "name": "python",
   "nbconvert_exporter": "python",
   "pygments_lexer": "ipython3",
   "version": "3.12.5"
  },
  "notebookname": "Mutables / immuables",
  "version": "3.0"
 },
 "nbformat": 4,
 "nbformat_minor": 5
}
