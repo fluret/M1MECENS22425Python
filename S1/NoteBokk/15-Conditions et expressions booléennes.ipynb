{
 "cells": [
  {
   "cell_type": "markdown",
   "metadata": {},
   "source": [
    "# Conditions & Expressions Booléennes"
   ]
  },
  {
   "cell_type": "markdown",
   "metadata": {},
   "source": [
    "## Tests considérés comme vrai"
   ]
  },
  {
   "cell_type": "markdown",
   "metadata": {},
   "source": [
    "Lorsqu'on écrit une instruction comme\n",
    "\n",
    "```python\n",
    "if <expression>:\n",
    "   <do_something>\n",
    "```\n",
    "\n",
    "le résultat de l'expression peut **ne pas être un booléen**. \n",
    "\n",
    "Par exemple, pour n'importe quel type numérique, la valeur 0 est considérée comme fausse. Cela signifie que :"
   ]
  },
  {
   "cell_type": "code",
   "execution_count": 1,
   "metadata": {},
   "outputs": [],
   "source": [
    "# ici la condition s'évalue à 0, donc on ne fait rien\n",
    "if 3 - 3:\n",
    "    print(\"ne passera pas par là\")"
   ]
  },
  {
   "cell_type": "code",
   "execution_count": null,
   "metadata": {},
   "outputs": [],
   "source": [
    "# ici la condition donne un tout petit réel mais pas 0.\n",
    "if 0.1 + 0.2 - 0.3:\n",
    "    print(\"par contre on passe ici\")"
   ]
  },
  {
   "cell_type": "markdown",
   "metadata": {},
   "source": [
    "De même, une chaîne vide, une liste vide, un tuple vide, sont considérés comme faux. Bref, vous voyez l'idée générale."
   ]
  },
  {
   "cell_type": "code",
   "execution_count": 3,
   "metadata": {},
   "outputs": [],
   "source": [
    "if \"\": \n",
    "    print(\"ne passera pas par là\")\n",
    "if []: \n",
    "    print(\"ne passera pas par là\")\n",
    "if ():\n",
    "    print(\"ne passera pas par là\")"
   ]
  },
  {
   "cell_type": "code",
   "execution_count": 4,
   "metadata": {},
   "outputs": [],
   "source": [
    "# assez logiquement, None aussi\n",
    "# est considéré comme faux\n",
    "if None:\n",
    "    print(\"ne passe toujours pas par ici\")"
   ]
  },
  {
   "cell_type": "markdown",
   "metadata": {},
   "source": [
    "Voici un aperçu de ce qui peut être considéré comme vrai ou faux dans un test :\n",
    "\n",
    "    None considérée comme False\n",
    "      '' considérée comme False\n",
    "     'a' considérée comme True\n",
    "      [] considérée comme False\n",
    "     [1] considérée comme True\n",
    "      () considérée comme False\n",
    "  (1, 2) considérée comme True\n",
    "      {} considérée comme False\n",
    "{'a': 1} considérée comme True\n",
    "   set() considérée comme False\n",
    "     {1} considérée comme True"
   ]
  },
  {
   "cell_type": "markdown",
   "metadata": {},
   "source": [
    "### Opérateur d'égalité `==`"
   ]
  },
  {
   "cell_type": "markdown",
   "metadata": {},
   "source": [
    "Les tests les plus simples se font à l'aide des opérateurs d'égalité, qui fonctionnent sur presque tous les objets.\n",
    "L'opérateur `==` ne fonctionne en général (sauf pour les nombres) que sur des objets de même type ; c'est-à-dire que notamment un tuple ne sera jamais égal à une liste :\n",
    "\n",
    "L'opérateur `==` vérifie si deux objets ont la même valeur :"
   ]
  },
  {
   "cell_type": "code",
   "execution_count": 5,
   "metadata": {},
   "outputs": [],
   "source": [
    "bas = 12\n",
    "haut = 25.82\n",
    "\n",
    "# égalité ?\n",
    "if bas == haut:\n",
    "    print('==')"
   ]
  },
  {
   "cell_type": "code",
   "execution_count": null,
   "metadata": {},
   "outputs": [],
   "source": [
    "# non égalité ?\n",
    "if bas != haut:\n",
    "    print('!=')"
   ]
  },
  {
   "cell_type": "markdown",
   "metadata": {},
   "source": [
    "En général, deux objets de types différents ne peuvent pas être égaux."
   ]
  },
  {
   "cell_type": "code",
   "execution_count": null,
   "metadata": {},
   "outputs": [],
   "source": [
    "# ces deux objets se ressemblent \n",
    "# mais ils ne sont pas du même type !\n",
    "if [1, 2] != (1, 2):\n",
    "    print('!=')"
   ]
  },
  {
   "cell_type": "markdown",
   "metadata": {},
   "source": [
    "Par contre, des `float`, des `int` et des `complex` peuvent être égaux entre eux :"
   ]
  },
  {
   "cell_type": "code",
   "execution_count": 8,
   "metadata": {},
   "outputs": [],
   "source": [
    "bas_reel = 12."
   ]
  },
  {
   "cell_type": "code",
   "execution_count": null,
   "metadata": {},
   "outputs": [],
   "source": [
    "print(bas, bas_reel)"
   ]
  },
  {
   "cell_type": "code",
   "execution_count": null,
   "metadata": {},
   "outputs": [],
   "source": [
    "# le réel 12 et \n",
    "# l'entier 12 sont égaux\n",
    "if bas == bas_reel:\n",
    "    print('int == float')"
   ]
  },
  {
   "cell_type": "markdown",
   "metadata": {},
   "source": [
    "### Les opérateurs de comparaison"
   ]
  },
  {
   "cell_type": "markdown",
   "metadata": {},
   "source": [
    "Sans grande surprise on peut aussi écrire"
   ]
  },
  {
   "cell_type": "code",
   "execution_count": null,
   "metadata": {},
   "outputs": [],
   "source": [
    "if bas <= haut:\n",
    "    print('<=')\n",
    "if bas < haut:\n",
    "    print('<')"
   ]
  },
  {
   "cell_type": "code",
   "execution_count": null,
   "metadata": {},
   "outputs": [],
   "source": [
    "if haut >= bas:\n",
    "    print('>=')\n",
    "if haut > bas:\n",
    "    print('>')"
   ]
  },
  {
   "cell_type": "markdown",
   "metadata": {},
   "source": [
    "À titre de curiosité, on peut même écrire en un seul test une appartenance à un intervalle, ce qui donne un code plus lisible"
   ]
  },
  {
   "cell_type": "code",
   "execution_count": null,
   "metadata": {},
   "outputs": [],
   "source": [
    "x = (bas + haut) / 2\n",
    "print(x)"
   ]
  },
  {
   "cell_type": "code",
   "execution_count": null,
   "metadata": {},
   "outputs": [],
   "source": [
    "# deux tests en une expression\n",
    "if bas <= x <= haut:\n",
    "    print(\"dans l'intervalle\")"
   ]
  },
  {
   "cell_type": "markdown",
   "metadata": {},
   "source": [
    "On peut également comparer deux listes en utilisant les opérateurs >, <, >= et <=. Dans ce cas, les listes sont comparées en suivant l'ordre lexicographique. Les premiers éléments de chaque liste sont d'abord comparés entre eux. Si celui de la première liste est plus petit (resp. plus grand) que celui de la seconde liste, alors la première liste est plus petite (resp. plus grande) que la seconde. Si les premiers éléments sont égaux, alors la comparaison continue avec les deuxièmes éléments…"
   ]
  },
  {
   "cell_type": "code",
   "execution_count": null,
   "metadata": {},
   "outputs": [],
   "source": [
    "# on peut comparer deux listes, mais ATTENTION\n",
    "print([1, 2] <= [2, 1])\n",
    "print([3, 1] <= [2, 3])\n",
    "print([3, 0, 0, 0, 0] > [2, 10, 20, 30, 40])\n",
    "print([2, 10, 0, 0] > [2, 8, 20, 30, 40])"
   ]
  },
  {
   "cell_type": "markdown",
   "metadata": {},
   "source": [
    "Il est parfois utile de vérifier le sens qui est donné à ces opérateurs selon le type ; ainsi par exemple sur les ensembles ils se réfèrent à l'**inclusion**."
   ]
  },
  {
   "cell_type": "markdown",
   "metadata": {},
   "source": [
    "### Connecteurs logiques et / ou / non"
   ]
  },
  {
   "cell_type": "markdown",
   "metadata": {},
   "source": [
    "On peut bien sûr combiner facilement plusieurs expressions entre elles, grâce aux opérateurs `and`, `or` et `not`"
   ]
  },
  {
   "cell_type": "code",
   "execution_count": null,
   "metadata": {},
   "outputs": [],
   "source": [
    "# il ne faut pas faire ceci, mettez des parenthèses\n",
    "if 12 <= 25. or [1, 2] <= [2, 3] and not 12 <= 32:\n",
    "    print(\"OK mais pourrait être mieux\")"
   ]
  },
  {
   "cell_type": "markdown",
   "metadata": {},
   "source": [
    "En matière de priorités : le plus simple si vous avez une expression compliquée reste de mettre les parenthèses qui rendent son évaluation claire et lisible pour tous. Aussi on préfèrera de beaucoup la formulation équivalente :"
   ]
  },
  {
   "cell_type": "code",
   "execution_count": null,
   "metadata": {},
   "outputs": [],
   "source": [
    "# c'est mieux avec un parenthésage\n",
    "if 12 <= 25. or ([1, 2] <= [2, 3] and not 12 <= 32):\n",
    "    print(\"OK, c'est équivalent et plus clair\")"
   ]
  },
  {
   "cell_type": "code",
   "execution_count": 25,
   "metadata": {},
   "outputs": [],
   "source": [
    "# attention, si on fait un autre parenthésage, on change le sens\n",
    "if (12 <= 25. or [1, 2] <= [2, 3]) and not 12 <= 32 :\n",
    "    print(\"ce n'est pas équivalent, ne passera pas par là\")"
   ]
  },
  {
   "cell_type": "markdown",
   "metadata": {},
   "source": [
    "#### Logique \"paresseuse\""
   ]
  },
  {
   "cell_type": "markdown",
   "metadata": {},
   "source": [
    "Remarquez aussi que les opérateurs logiques peuvent être appliqués à des valeurs qui ne sont pas booléennes :"
   ]
  },
  {
   "cell_type": "code",
   "execution_count": null,
   "metadata": {},
   "outputs": [],
   "source": [
    "2 and [1, 2]"
   ]
  },
  {
   "cell_type": "code",
   "execution_count": null,
   "metadata": {},
   "outputs": [],
   "source": [
    "None or \"abcde\""
   ]
  },
  {
   "cell_type": "markdown",
   "metadata": {},
   "source": [
    "Les résultats affichés ci-dessus sont le résultat de ce que l'on appelle la logique de l'évaluation paresseuse, remarquez que lorsque l'évaluation d'un `and` ou d'un `or` peut être court-circuitée, le résultat est alors toujours le résultat de la dernière expression évaluée :"
   ]
  },
  {
   "cell_type": "code",
   "execution_count": null,
   "metadata": {},
   "outputs": [],
   "source": [
    "1 and 2 and 3"
   ]
  },
  {
   "cell_type": "code",
   "execution_count": null,
   "metadata": {},
   "outputs": [],
   "source": [
    "1 and 2 and 3 and '' and 4"
   ]
  },
  {
   "cell_type": "code",
   "execution_count": null,
   "metadata": {},
   "outputs": [],
   "source": [
    "[] or \"\" or {}"
   ]
  },
  {
   "cell_type": "code",
   "execution_count": null,
   "metadata": {},
   "outputs": [],
   "source": [
    "[] or \"\" or {} or 4 or set()"
   ]
  }
 ],
 "metadata": {
  "kernelspec": {
   "display_name": "Python 3",
   "language": "python",
   "name": "python3"
  },
  "language_info": {
   "codemirror_mode": {
    "name": "ipython",
    "version": 3
   },
   "file_extension": ".py",
   "mimetype": "text/x-python",
   "name": "python",
   "nbconvert_exporter": "python",
   "pygments_lexer": "ipython3",
   "version": "3.12.5"
  }
 },
 "nbformat": 4,
 "nbformat_minor": 2
}
