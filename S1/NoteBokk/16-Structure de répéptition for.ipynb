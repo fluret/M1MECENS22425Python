{
 "cells": [
  {
   "cell_type": "markdown",
   "metadata": {},
   "source": [
    "ajouter fo in range, for in, for in enumerate et for in zip"
   ]
  },
  {
   "cell_type": "markdown",
   "metadata": {},
   "source": [
    "# Itérateur"
   ]
  },
  {
   "cell_type": "markdown",
   "metadata": {},
   "source": [
    "Un itérateur permet de parcourir une séquence d’éléments. Les collections en Python comme les listes, les ensembles, les tuples, les dictionnaires et même les chaînes de caractères peuvent se comporter comme des itérateurs et être utilisés par exemple dans une expression for."
   ]
  },
  {
   "cell_type": "markdown",
   "metadata": {},
   "source": [
    "# Utilisations de la structure for"
   ]
  },
  {
   "cell_type": "markdown",
   "metadata": {},
   "source": [
    "## Utilisation sur des séquences"
   ]
  },
  {
   "cell_type": "markdown",
   "metadata": {},
   "source": [
    "Il est possible de parcourir toutes les valeurs de n'importe quelle séquance :"
   ]
  },
  {
   "cell_type": "markdown",
   "metadata": {},
   "source": [
    "### Chaîne de caractères"
   ]
  },
  {
   "cell_type": "code",
   "execution_count": null,
   "metadata": {},
   "outputs": [],
   "source": [
    "for car in \"le python c'est formidable\":\n",
    "    print(car, end='    ')"
   ]
  },
  {
   "cell_type": "markdown",
   "metadata": {},
   "source": [
    "### Liste"
   ]
  },
  {
   "cell_type": "code",
   "execution_count": null,
   "metadata": {},
   "outputs": [],
   "source": [
    "b = [10, 50, 100, 200, 500]\n",
    "for i in b:\n",
    "    print(i, end='    ')"
   ]
  },
  {
   "cell_type": "markdown",
   "metadata": {},
   "source": [
    "### tuple"
   ]
  },
  {
   "cell_type": "code",
   "execution_count": null,
   "metadata": {},
   "outputs": [],
   "source": [
    "b = (10, 50, 100, 200, 500) \n",
    "for i in b:\n",
    "    print(i, end='    ')"
   ]
  },
  {
   "cell_type": "markdown",
   "metadata": {},
   "source": [
    "### range"
   ]
  },
  {
   "cell_type": "code",
   "execution_count": null,
   "metadata": {},
   "outputs": [],
   "source": [
    "for i in range(5):\n",
    "    print(i, end='    ')   "
   ]
  },
  {
   "cell_type": "markdown",
   "metadata": {},
   "source": [
    "### dictionnaire"
   ]
  },
  {
   "cell_type": "code",
   "execution_count": 13,
   "metadata": {},
   "outputs": [],
   "source": [
    "d = {'k1':1,'k2':2,'k3':3}"
   ]
  },
  {
   "cell_type": "code",
   "execution_count": null,
   "metadata": {},
   "outputs": [],
   "source": [
    "for item in d:\n",
    "    print(item)"
   ]
  },
  {
   "cell_type": "markdown",
   "metadata": {},
   "source": [
    "Remarquez que cette méthode ne produit que les clés. "
   ]
  },
  {
   "cell_type": "code",
   "execution_count": null,
   "metadata": {},
   "outputs": [],
   "source": [
    "# Create a dictionary view object\n",
    "d.items()"
   ]
  },
  {
   "cell_type": "markdown",
   "metadata": {},
   "source": [
    "Comme la méthode .items() prend en charge l'itération, nous pouvons effectuer un *unpacking* pour séparer les clés et les valeurs."
   ]
  },
  {
   "cell_type": "code",
   "execution_count": null,
   "metadata": {},
   "outputs": [],
   "source": [
    "# Dictionary unpacking\n",
    "for k,v in d.items():\n",
    "    print(k, v)"
   ]
  },
  {
   "cell_type": "markdown",
   "metadata": {},
   "source": [
    "# Fonction enumerate"
   ]
  },
  {
   "cell_type": "markdown",
   "metadata": {},
   "source": [
    "La fonction enumerate est l'une des fonctions les plus utiles et les plus sous-estimées de Python.\n",
    "\n",
    "Elle permet de simplifier le code et de le rendre plus lisible, tout en améliorant les performances."
   ]
  },
  {
   "cell_type": "markdown",
   "metadata": {},
   "source": [
    "## Fonctionnement"
   ]
  },
  {
   "cell_type": "markdown",
   "metadata": {},
   "source": [
    "La fonction enumerate est une fonction intégrée de Python qui ajoute un compteur à un objet itérable. Elle retourne un objet enumerate qui peut être utilisé pour énumérer les éléments d'une séquence et leur attribuer un index.\n",
    "\n",
    "La syntaxe de la fonction Enumerate est la suivante :\n",
    "\n",
    "```python\n",
    "enumerate(sequence, start=0)\n",
    "```\n",
    "\n",
    "Où sequence est l'objet à énumérer et start est l'indice à partir duquel commencer la numérotation (par défaut, 0).\n"
   ]
  },
  {
   "cell_type": "code",
   "execution_count": null,
   "metadata": {},
   "outputs": [],
   "source": [
    "fruits = ['pomme', 'banane', 'orange']\n",
    "\n",
    "for index, fruit in enumerate(fruits):\n",
    "    print(index, fruit)"
   ]
  },
  {
   "cell_type": "markdown",
   "metadata": {},
   "source": [
    "# Fonction zip"
   ]
  },
  {
   "cell_type": "markdown",
   "metadata": {},
   "source": [
    "La fonction zip en Python est une fonction qui permet de combiner plusieurs itérateurs en un seul objet.\n",
    "\n",
    "Cette fonctionnalité est très pratique car elle permet de réduire la quantité de code nécessaire pour effectuer certaines opérations, tout en améliorant la lisibilité et la maintenabilité du code."
   ]
  },
  {
   "cell_type": "markdown",
   "metadata": {},
   "source": [
    "## Fonctionnement"
   ]
  },
  {
   "cell_type": "markdown",
   "metadata": {},
   "source": [
    "La fonction zip est très facile à utiliser en Python.\n",
    "\n",
    "Il suffit d'appeler la fonction zip en passant les itérateurs que vous souhaitez combiner en tant que paramètres. Par exemple :"
   ]
  },
  {
   "cell_type": "code",
   "execution_count": null,
   "metadata": {},
   "outputs": [],
   "source": [
    "liste1 = [1, 2, 3]\n",
    "liste2 = ['a', 'b', 'c']\n",
    "resultat = zip(liste1, liste2)\n",
    "print(list(resultat))"
   ]
  },
  {
   "cell_type": "markdown",
   "metadata": {},
   "source": [
    "Dans cet exemple, nous avons deux listes, liste1 et liste2, et nous avons appelé la fonction zip pour les combiner en un seul objet.\n",
    "\n",
    "Pour afficher le résultat de la fonction zip, on converti l'objet zip qui nous est retourné en liste avec la fonction list.\n",
    "\n",
    "Le résultat de cette opération est un objet zip (ici converti en liste pour l'affichage) qui contient une liste de tuples, chaque tuple contenant les éléments correspondants des listes d'entrée.\n",
    "\n",
    "L'objet zip est un itérateur."
   ]
  },
  {
   "cell_type": "code",
   "execution_count": null,
   "metadata": {},
   "outputs": [],
   "source": [
    "liste1 = [1, 2, 3]\n",
    "liste2 = ['a', 'b', 'c']\n",
    "for element1, element2 in zip(liste1, liste2):\n",
    "    print(element1, element2)"
   ]
  },
  {
   "cell_type": "code",
   "execution_count": null,
   "metadata": {},
   "outputs": [],
   "source": [
    "fruits = ['pomme', 'banane', 'orange']\n",
    "couleurs = ['rouge', 'jaune', 'orange']\n",
    "\n",
    "for index, (fruit, couleur) in enumerate(zip(fruits, couleurs)):\n",
    "    print(index, fruit, couleur)"
   ]
  }
 ],
 "metadata": {
  "kernelspec": {
   "display_name": "Python 3",
   "language": "python",
   "name": "python3"
  },
  "language_info": {
   "codemirror_mode": {
    "name": "ipython",
    "version": 3
   },
   "file_extension": ".py",
   "mimetype": "text/x-python",
   "name": "python",
   "nbconvert_exporter": "python",
   "pygments_lexer": "ipython3",
   "version": "3.12.5"
  }
 },
 "nbformat": 4,
 "nbformat_minor": 2
}
