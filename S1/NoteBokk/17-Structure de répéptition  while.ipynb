{
 "cells": [
  {
   "cell_type": "markdown",
   "metadata": {},
   "source": [
    "# while Loops\n",
    "\n",
    "L'instruction <code>while</code> en Python est l'une des façons les plus générales d'effectuer l'itération. Une instruction <code>while</code> exécute de manière répétée une seule instruction ou un groupe d'instructions tant que la condition est vraie. La raison pour laquelle on l'appelle une \"boucle\" est que les instructions de code sont exécutées en boucle, encore et encore, jusqu'à ce que la condition ne soit plus remplie.\n",
    "\n",
    "Le format général d'une boucle while est le suivant\n",
    "\n",
    "\n",
    "```python\n",
    "    while test:\n",
    "        code statements\n",
    "    else:\n",
    "        final code statements\n",
    "```\n",
    "\n",
    "Voyons quelques boucles <code>while</code> simples en action."
   ]
  },
  {
   "cell_type": "code",
   "execution_count": null,
   "metadata": {},
   "outputs": [],
   "source": [
    "x = 0\n",
    "\n",
    "while x < 5:\n",
    "    print('x is currently: ', x, 'the next time x is: ', x + 1)\n",
    "    print(' x is still less than 10, adding 1 to x')\n",
    "    x += 1"
   ]
  },
  {
   "cell_type": "markdown",
   "metadata": {},
   "source": [
    "Remarquez le nombre de fois où les instructions d'impression se sont produites et comment la boucle <code>while</code> a continué jusqu'à ce que la condition True soit remplie, ce qui s'est produit une fois que `x == 10`. Il est important de noter qu'une fois cette condition remplie, le code s'arrête."
   ]
  },
  {
   "cell_type": "markdown",
   "metadata": {},
   "source": [
    "## Clause else"
   ]
  },
  {
   "cell_type": "markdown",
   "metadata": {},
   "source": [
    "Signalons enfin que la boucle `while` - au même titre d'ailleurs que la boucle `for`, peut être assortie [d'une clause `else`](https://docs.python.org/3/reference/compound_stmts.html#the-while-statement), qui est exécutée à la fin de la boucle, **sauf dans le cas d'une sortie avec `break`**"
   ]
  },
  {
   "cell_type": "code",
   "execution_count": null,
   "metadata": {},
   "outputs": [],
   "source": [
    "x = 0\n",
    "\n",
    "while x < 5:\n",
    "    print('x is currently: ',x)\n",
    "    print(' x is still less than 10, adding 1 to x')\n",
    "    x+=1\n",
    "    \n",
    "else:\n",
    "    print('All Done!')"
   ]
  }
 ],
 "metadata": {
  "kernelspec": {
   "display_name": "Python 3",
   "language": "python",
   "name": "python3"
  },
  "language_info": {
   "codemirror_mode": {
    "name": "ipython",
    "version": 3
   },
   "file_extension": ".py",
   "mimetype": "text/x-python",
   "name": "python",
   "nbconvert_exporter": "python",
   "pygments_lexer": "ipython3",
   "version": "3.12.5"
  }
 },
 "nbformat": 4,
 "nbformat_minor": 2
}
